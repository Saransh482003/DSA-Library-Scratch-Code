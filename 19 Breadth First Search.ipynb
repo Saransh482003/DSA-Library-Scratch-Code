{
 "cells": [
  {
   "cell_type": "code",
   "execution_count": 52,
   "id": "c1fdccf8",
   "metadata": {},
   "outputs": [],
   "source": [
    "class Queue:\n",
    "    def __init__(self):\n",
    "        self.queue = []\n",
    "    def enqueue(self, ele):\n",
    "        self.queue.append(ele)\n",
    "    def dequeue(self):\n",
    "        return self.queue.pop(0)"
   ]
  },
  {
   "cell_type": "code",
   "execution_count": 53,
   "id": "43875d78",
   "metadata": {},
   "outputs": [],
   "source": [
    "adj_list = {0:[1,2,4],1:[0,2],2:[0,1],3:[4,5,6],4:[0,3,7],5:[3,6,7,8],6:[3,5],7:[4,5,8],8:[5,7,9],9:[8]}"
   ]
  },
  {
   "cell_type": "code",
   "execution_count": 54,
   "id": "a356a561",
   "metadata": {},
   "outputs": [],
   "source": [
    "visited = {i:False for i in adj_list}"
   ]
  },
  {
   "cell_type": "code",
   "execution_count": 55,
   "id": "6308cdbf",
   "metadata": {},
   "outputs": [
    {
     "data": {
      "text/plain": [
       "{0: False,\n",
       " 1: False,\n",
       " 2: False,\n",
       " 3: False,\n",
       " 4: False,\n",
       " 5: False,\n",
       " 6: False,\n",
       " 7: False,\n",
       " 8: False,\n",
       " 9: False}"
      ]
     },
     "execution_count": 55,
     "metadata": {},
     "output_type": "execute_result"
    }
   ],
   "source": [
    "visited"
   ]
  },
  {
   "cell_type": "code",
   "execution_count": 56,
   "id": "d22f9027",
   "metadata": {},
   "outputs": [],
   "source": [
    "q = Queue()"
   ]
  },
  {
   "cell_type": "code",
   "execution_count": 57,
   "id": "3d066780",
   "metadata": {},
   "outputs": [],
   "source": [
    "q.enqueue(0)"
   ]
  },
  {
   "cell_type": "code",
   "execution_count": 58,
   "id": "bfb9b4c7",
   "metadata": {},
   "outputs": [],
   "source": [
    "path=[]"
   ]
  },
  {
   "cell_type": "code",
   "execution_count": 59,
   "id": "cbbb272d",
   "metadata": {},
   "outputs": [],
   "source": [
    "while len(q.queue)>0:\n",
    "    ret = q.dequeue()\n",
    "    if not visited[ret]:\n",
    "        visited[ret] = True\n",
    "        path.append(ret)\n",
    "    for i in adj_list[ret]:\n",
    "        if not visited[i]:\n",
    "            q.enqueue(i)\n",
    "    "
   ]
  },
  {
   "cell_type": "code",
   "execution_count": 60,
   "id": "9091214b",
   "metadata": {},
   "outputs": [
    {
     "data": {
      "text/plain": [
       "[0, 1, 2, 4, 3, 7, 5, 6, 8, 9]"
      ]
     },
     "execution_count": 60,
     "metadata": {},
     "output_type": "execute_result"
    }
   ],
   "source": [
    "path"
   ]
  },
  {
   "cell_type": "code",
   "execution_count": null,
   "id": "cb0ea42d",
   "metadata": {},
   "outputs": [],
   "source": []
  }
 ],
 "metadata": {
  "kernelspec": {
   "display_name": "Python 3 (ipykernel)",
   "language": "python",
   "name": "python3"
  },
  "language_info": {
   "codemirror_mode": {
    "name": "ipython",
    "version": 3
   },
   "file_extension": ".py",
   "mimetype": "text/x-python",
   "name": "python",
   "nbconvert_exporter": "python",
   "pygments_lexer": "ipython3",
   "version": "3.9.7"
  }
 },
 "nbformat": 4,
 "nbformat_minor": 5
}
