{
 "cells": [
  {
   "cell_type": "code",
   "execution_count": 2,
   "id": "44cf96ab",
   "metadata": {},
   "outputs": [],
   "source": [
    "adje = {0:[1,2],1:[3,4]}"
   ]
  },
  {
   "cell_type": "code",
   "execution_count": 5,
   "id": "e49944c1",
   "metadata": {},
   "outputs": [],
   "source": [
    "class Queue:\n",
    "    def __init__(self):\n",
    "        self.q = []\n",
    "    def enqueue(self,ele):\n",
    "        self.q.append(ele)\n",
    "    def dequeue(self):\n",
    "        return self.q.pop(0)"
   ]
  },
  {
   "cell_type": "code",
   "execution_count": 26,
   "id": "0708d3cf",
   "metadata": {},
   "outputs": [],
   "source": [
    "class TopologicalSort:\n",
    "    def __init__(self,adjacency=None):\n",
    "        self.adj = {}\n",
    "        if type(adjacency)==list:\n",
    "            for i,j in enumerate(adjacency):\n",
    "                self.adj[i] = [k for k,l in enumerate(j) if l==1]\n",
    "        if type(adjacency)==dict:\n",
    "            self.adj = adjacency\n",
    "    def add_edge(self,from_point, to_point):\n",
    "        if from_point in self.adj:\n",
    "            self.adj[from_point].append(to_point)\n",
    "        else:\n",
    "            self.adj[from_point] = [to_point]\n",
    "    def check_incoming(self,mat,ele):\n",
    "        ter = []\n",
    "        for i in list(mat.values()):\n",
    "            ter.extend(i)\n",
    "        return ele in set(ter)\n",
    "    def topological(self):\n",
    "        path = []\n",
    "        while len(self.adj)>0:\n",
    "            dels = []\n",
    "            for i in self.adj:\n",
    "                if not self.check_incoming(self.adj,i):\n",
    "                    path.append(i)\n",
    "                    dels.append(i)\n",
    "                    for j in self.adj[i]:\n",
    "                        self.adj[j] = []\n",
    "            for i in dels:\n",
    "                del self.adj[i]\n",
    "        return path "
   ]
  },
  {
   "cell_type": "code",
   "execution_count": 27,
   "id": "d345076e",
   "metadata": {},
   "outputs": [],
   "source": [
    "tp = TopologicalSort({0:[1,2],1:[3,4]})"
   ]
  },
  {
   "cell_type": "code",
   "execution_count": 28,
   "id": "8f149e9f",
   "metadata": {},
   "outputs": [
    {
     "data": {
      "text/plain": [
       "False"
      ]
     },
     "execution_count": 28,
     "metadata": {},
     "output_type": "execute_result"
    }
   ],
   "source": [
    "tp.check_incoming({0:[1,2,4],1:[0,2],2:[0,1],3:[4,5,6],4:[0,3,7],5:[3,6,7,8],6:[3,5],7:[4,5,8],8:[5,7],9:[8]\n",
    "                  },9)"
   ]
  },
  {
   "cell_type": "code",
   "execution_count": 29,
   "id": "f38cadba",
   "metadata": {},
   "outputs": [
    {
     "ename": "RuntimeError",
     "evalue": "dictionary changed size during iteration",
     "output_type": "error",
     "traceback": [
      "\u001b[1;31m---------------------------------------------------------------------------\u001b[0m",
      "\u001b[1;31mRuntimeError\u001b[0m                              Traceback (most recent call last)",
      "\u001b[1;32m~\\AppData\\Local\\Temp/ipykernel_5064/1344939389.py\u001b[0m in \u001b[0;36m<module>\u001b[1;34m\u001b[0m\n\u001b[1;32m----> 1\u001b[1;33m \u001b[0mtp\u001b[0m\u001b[1;33m.\u001b[0m\u001b[0mtopological\u001b[0m\u001b[1;33m(\u001b[0m\u001b[1;33m)\u001b[0m\u001b[1;33m\u001b[0m\u001b[1;33m\u001b[0m\u001b[0m\n\u001b[0m",
      "\u001b[1;32m~\\AppData\\Local\\Temp/ipykernel_5064/1760768658.py\u001b[0m in \u001b[0;36mtopological\u001b[1;34m(self)\u001b[0m\n\u001b[0;32m     21\u001b[0m         \u001b[1;32mwhile\u001b[0m \u001b[0mlen\u001b[0m\u001b[1;33m(\u001b[0m\u001b[0mself\u001b[0m\u001b[1;33m.\u001b[0m\u001b[0madj\u001b[0m\u001b[1;33m)\u001b[0m\u001b[1;33m>\u001b[0m\u001b[1;36m0\u001b[0m\u001b[1;33m:\u001b[0m\u001b[1;33m\u001b[0m\u001b[1;33m\u001b[0m\u001b[0m\n\u001b[0;32m     22\u001b[0m             \u001b[0mdels\u001b[0m \u001b[1;33m=\u001b[0m \u001b[1;33m[\u001b[0m\u001b[1;33m]\u001b[0m\u001b[1;33m\u001b[0m\u001b[1;33m\u001b[0m\u001b[0m\n\u001b[1;32m---> 23\u001b[1;33m             \u001b[1;32mfor\u001b[0m \u001b[0mi\u001b[0m \u001b[1;32min\u001b[0m \u001b[0mself\u001b[0m\u001b[1;33m.\u001b[0m\u001b[0madj\u001b[0m\u001b[1;33m:\u001b[0m\u001b[1;33m\u001b[0m\u001b[1;33m\u001b[0m\u001b[0m\n\u001b[0m\u001b[0;32m     24\u001b[0m                 \u001b[1;32mif\u001b[0m \u001b[1;32mnot\u001b[0m \u001b[0mself\u001b[0m\u001b[1;33m.\u001b[0m\u001b[0mcheck_incoming\u001b[0m\u001b[1;33m(\u001b[0m\u001b[0mself\u001b[0m\u001b[1;33m.\u001b[0m\u001b[0madj\u001b[0m\u001b[1;33m,\u001b[0m\u001b[0mi\u001b[0m\u001b[1;33m)\u001b[0m\u001b[1;33m:\u001b[0m\u001b[1;33m\u001b[0m\u001b[1;33m\u001b[0m\u001b[0m\n\u001b[0;32m     25\u001b[0m                     \u001b[0mpath\u001b[0m\u001b[1;33m.\u001b[0m\u001b[0mappend\u001b[0m\u001b[1;33m(\u001b[0m\u001b[0mi\u001b[0m\u001b[1;33m)\u001b[0m\u001b[1;33m\u001b[0m\u001b[1;33m\u001b[0m\u001b[0m\n",
      "\u001b[1;31mRuntimeError\u001b[0m: dictionary changed size during iteration"
     ]
    }
   ],
   "source": [
    "tp.topological()"
   ]
  },
  {
   "cell_type": "code",
   "execution_count": null,
   "id": "a5e3b777",
   "metadata": {},
   "outputs": [],
   "source": []
  }
 ],
 "metadata": {
  "kernelspec": {
   "display_name": "Python 3 (ipykernel)",
   "language": "python",
   "name": "python3"
  },
  "language_info": {
   "codemirror_mode": {
    "name": "ipython",
    "version": 3
   },
   "file_extension": ".py",
   "mimetype": "text/x-python",
   "name": "python",
   "nbconvert_exporter": "python",
   "pygments_lexer": "ipython3",
   "version": "3.9.7"
  }
 },
 "nbformat": 4,
 "nbformat_minor": 5
}
