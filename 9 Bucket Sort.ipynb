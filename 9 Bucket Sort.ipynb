{
 "cells": [
  {
   "cell_type": "code",
   "execution_count": 1,
   "id": "88309a43",
   "metadata": {},
   "outputs": [],
   "source": [
    "def InsertionSort(array):\n",
    "    l = array\n",
    "    per = 1\n",
    "    while per<len(l):\n",
    "        ele = l[per]\n",
    "        if l[0]>ele:\n",
    "            l.insert(0,l.pop(per))\n",
    "        else:\n",
    "            for i in range(len(l[:per])):\n",
    "                if l[i]<ele and l[i+1]>=ele:\n",
    "                    l.insert(i+1,l.pop(per))\n",
    "                    break\n",
    "                elif l[i]<=ele and l[i+1]>ele:\n",
    "                    l.insert(i+1,l.pop(per))\n",
    "                    break\n",
    "        per+=1\n",
    "    return l"
   ]
  },
  {
   "cell_type": "code",
   "execution_count": 2,
   "id": "b80c57c8",
   "metadata": {},
   "outputs": [],
   "source": [
    "def BucketSort(array,n=3):\n",
    "    if len(array)<=n:\n",
    "        return InsertionSort(array)\n",
    "    ret = [i-min(array) for i in array]\n",
    "    buck = (max(ret)//n)+1\n",
    "    store = [[] for _ in range(n)]\n",
    "    for i in ret:\n",
    "        store[i//buck].append(i+min(array))\n",
    "    ter = []\n",
    "    for i in store:\n",
    "        if len(i)>0:\n",
    "            ter.extend(InsertionSort(i))\n",
    "    return ter"
   ]
  },
  {
   "cell_type": "code",
   "execution_count": 3,
   "id": "aca950f2",
   "metadata": {},
   "outputs": [],
   "source": [
    "import random"
   ]
  },
  {
   "cell_type": "code",
   "execution_count": 4,
   "id": "c26ce314",
   "metadata": {},
   "outputs": [
    {
     "data": {
      "text/plain": [
       "10000"
      ]
     },
     "execution_count": 4,
     "metadata": {},
     "output_type": "execute_result"
    }
   ],
   "source": [
    "iu = []\n",
    "for i in range(10000):\n",
    "    rander = random.randint(1,30)\n",
    "    l = [random.randint(10,100) for _ in range(rander)]\n",
    "    try:\n",
    "        iu.append(True if BucketSort(l)==sorted(l) else [False,l])\n",
    "    except:\n",
    "        iu.append([False,l])\n",
    "iu.count(True)"
   ]
  },
  {
   "cell_type": "code",
   "execution_count": null,
   "id": "1e3fa6af",
   "metadata": {},
   "outputs": [],
   "source": []
  }
 ],
 "metadata": {
  "kernelspec": {
   "display_name": "Python 3 (ipykernel)",
   "language": "python",
   "name": "python3"
  },
  "language_info": {
   "codemirror_mode": {
    "name": "ipython",
    "version": 3
   },
   "file_extension": ".py",
   "mimetype": "text/x-python",
   "name": "python",
   "nbconvert_exporter": "python",
   "pygments_lexer": "ipython3",
   "version": "3.9.7"
  }
 },
 "nbformat": 4,
 "nbformat_minor": 5
}
