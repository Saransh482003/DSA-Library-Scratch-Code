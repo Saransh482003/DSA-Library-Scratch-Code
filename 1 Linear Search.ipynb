{
 "cells": [
  {
   "cell_type": "code",
   "execution_count": 1,
   "id": "1c277a64",
   "metadata": {},
   "outputs": [],
   "source": [
    "def LinearSearch(array,search):\n",
    "    return True if search in array else False"
   ]
  },
  {
   "cell_type": "code",
   "execution_count": null,
   "id": "52ab4878",
   "metadata": {},
   "outputs": [],
   "source": []
  }
 ],
 "metadata": {
  "kernelspec": {
   "display_name": "Python 3 (ipykernel)",
   "language": "python",
   "name": "python3"
  },
  "language_info": {
   "codemirror_mode": {
    "name": "ipython",
    "version": 3
   },
   "file_extension": ".py",
   "mimetype": "text/x-python",
   "name": "python",
   "nbconvert_exporter": "python",
   "pygments_lexer": "ipython3",
   "version": "3.9.7"
  }
 },
 "nbformat": 4,
 "nbformat_minor": 5
}
