{
 "cells": [
  {
   "cell_type": "code",
   "execution_count": 1,
   "id": "a5fe615a",
   "metadata": {},
   "outputs": [],
   "source": [
    "class Stack:\n",
    "    def __init__(self):\n",
    "        self.stack = []\n",
    "    def push(self,element):\n",
    "        self.stack.append(element)\n",
    "    def pop(self):\n",
    "        return self.stack.pop(-1)\n",
    "    def top(self):\n",
    "        return self.stack[-1] if len(self.stack)>0 else None\n",
    "    def reverse(self):\n",
    "        ter = Stack()\n",
    "        while len(self.stack)>0:\n",
    "            ter.push(self.pop())\n",
    "        self.stack = ter.stack"
   ]
  },
  {
   "cell_type": "code",
   "execution_count": 5,
   "id": "64bbec1a",
   "metadata": {},
   "outputs": [],
   "source": [
    "class PolishNotation:\n",
    "    def infixToPostfix(self,infix):\n",
    "        infix = infix.replace(\" \",\"\")\n",
    "        d = {\"^\":3,\"$\":3,\"/\":2,\"*\":2,\"+\":1,\"-\":1}\n",
    "        postfix = \"\"\n",
    "        at = Stack()\n",
    "        for i in infix:\n",
    "            if i not in \"^$/*+-()\":\n",
    "                postfix +=i\n",
    "            else:\n",
    "                if (at.top() == None or at.top()==\"(\" or i==\"(\") and i!=\")\":\n",
    "                    at.push(i)\n",
    "                else:\n",
    "                    if i==\")\":\n",
    "                        while at.top()!=\"(\":\n",
    "                            postfix += at.pop()\n",
    "                        at.pop()\n",
    "                    else:\n",
    "                        if d[at.top()]<d[i] or i==\"^\":\n",
    "                            at.push(i)\n",
    "                        else:\n",
    "                            while at.top()!=\"(\" and d[at.top()]>=d[i] and at.top!=None:\n",
    "                                postfix += at.pop()\n",
    "                                if at.top()==None:\n",
    "                                    break\n",
    "                            at.push(i)\n",
    "        while len(at.stack)>0:\n",
    "            postfix+=at.pop()\n",
    "\n",
    "        return postfix\n",
    "    \n",
    "    def infixToPrefix(self,infix):\n",
    "        rev = list(infix[::-1])\n",
    "        for i in range(len(rev)):\n",
    "            if rev[i]==\")\":\n",
    "                rev[i]=\"(\"\n",
    "            elif rev[i]==\"(\":\n",
    "                rev[i]=\")\"\n",
    "        return self.infixToPostfix(\"\".join(rev))[::-1]\n",
    "    \n",
    "    def postfixToInfix(self,postfix):\n",
    "        if \" \" in postfix:\n",
    "            postfix = postfix.split(\" \")\n",
    "        at = Stack()\n",
    "        for i in postfix:\n",
    "            if i in \"^$*/+-\":\n",
    "                second = at.pop()\n",
    "                first = at.pop()\n",
    "                at.push(f\"({first}{i}{second})\")\n",
    "            else:\n",
    "                at.push(i)\n",
    "        return at.top()\n",
    "    \n",
    "    def postfixToPrefix(self,postfix):\n",
    "        if \" \" in postfix:\n",
    "            postfix = postfix.split(\" \")\n",
    "        at = Stack()\n",
    "        for i in postfix:\n",
    "            if i in \"^$*/+-\":\n",
    "                second = at.pop()\n",
    "                first = at.pop()\n",
    "                at.push(f\"{i}{first}{second}\")\n",
    "            else:\n",
    "                at.push(i)\n",
    "        return at.top()\n",
    "    \n",
    "    def prefixToInfix(self,prefix):\n",
    "        if \" \" in prefix:\n",
    "            prefix = prefix.split(\" \")\n",
    "        prefix = prefix[::-1]\n",
    "        at = Stack()\n",
    "        for i in prefix:\n",
    "            if i in \"^$*/+-\":\n",
    "                second = at.pop()\n",
    "                first = at.pop()\n",
    "                at.push(f\"({second}{i}{first})\")\n",
    "            else:\n",
    "                at.push(i)\n",
    "        return at.top()\n",
    "    \n",
    "    def prefixToPostfix(self,prefix):\n",
    "        prefix = prefix[::-1]\n",
    "        if \" \" in prefix:\n",
    "            prefix = prefix.split(\" \")\n",
    "        at = Stack()\n",
    "        for i in prefix:\n",
    "            if i in \"^$*/+-\":\n",
    "                second = at.pop()\n",
    "                first = at.pop()\n",
    "                at.push(f\"{second}{first}{i}\")\n",
    "            else:\n",
    "                at.push(i)\n",
    "        return at.top()"
   ]
  },
  {
   "cell_type": "code",
   "execution_count": 6,
   "id": "4e1898fa",
   "metadata": {},
   "outputs": [],
   "source": [
    "ret = PolishNotation()"
   ]
  },
  {
   "cell_type": "code",
   "execution_count": 7,
   "id": "6b458a77",
   "metadata": {},
   "outputs": [
    {
     "data": {
      "text/plain": [
       "'ABC/-AK/L-*'"
      ]
     },
     "execution_count": 7,
     "metadata": {},
     "output_type": "execute_result"
    }
   ],
   "source": [
    "ret.prefixToPostfix('*-A/BC-/AKL')"
   ]
  },
  {
   "cell_type": "code",
   "execution_count": null,
   "id": "15a8f2b8",
   "metadata": {},
   "outputs": [],
   "source": []
  }
 ],
 "metadata": {
  "kernelspec": {
   "display_name": "Python 3 (ipykernel)",
   "language": "python",
   "name": "python3"
  },
  "language_info": {
   "codemirror_mode": {
    "name": "ipython",
    "version": 3
   },
   "file_extension": ".py",
   "mimetype": "text/x-python",
   "name": "python",
   "nbconvert_exporter": "python",
   "pygments_lexer": "ipython3",
   "version": "3.9.7"
  }
 },
 "nbformat": 4,
 "nbformat_minor": 5
}
