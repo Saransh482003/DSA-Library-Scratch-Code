{
 "cells": [
  {
   "cell_type": "code",
   "execution_count": 7,
   "id": "b329b112",
   "metadata": {},
   "outputs": [],
   "source": [
    "def BinarySearch(array,search):\n",
    "    if len(array)==1:\n",
    "        return True if array[0]==search else False\n",
    "    if array[len(array)//2]>search:\n",
    "        return BinarySearch(array[:len(array)//2],search)\n",
    "    if array[len(array)//2]<search:\n",
    "        return BinarySearch(array[(len(array)//2)+1:],search)\n",
    "    if array[len(array)//2]==search:\n",
    "        return True"
   ]
  },
  {
   "cell_type": "code",
   "execution_count": null,
   "id": "78002c1b",
   "metadata": {},
   "outputs": [],
   "source": []
  }
 ],
 "metadata": {
  "kernelspec": {
   "display_name": "Python 3 (ipykernel)",
   "language": "python",
   "name": "python3"
  },
  "language_info": {
   "codemirror_mode": {
    "name": "ipython",
    "version": 3
   },
   "file_extension": ".py",
   "mimetype": "text/x-python",
   "name": "python",
   "nbconvert_exporter": "python",
   "pygments_lexer": "ipython3",
   "version": "3.9.7"
  }
 },
 "nbformat": 4,
 "nbformat_minor": 5
}
