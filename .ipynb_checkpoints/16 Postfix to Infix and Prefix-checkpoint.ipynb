{
 "cells": [
  {
   "cell_type": "code",
   "execution_count": 29,
   "id": "6f505aeb",
   "metadata": {},
   "outputs": [],
   "source": [
    "class Stack:\n",
    "    def __init__(self):\n",
    "        self.stack = []\n",
    "    def push(self,element):\n",
    "        self.stack.append(element)\n",
    "    def pop(self):\n",
    "        return self.stack.pop(-1)\n",
    "    def top(self):\n",
    "        return self.stack[-1] if len(self.stack)>0 else None"
   ]
  },
  {
   "cell_type": "code",
   "execution_count": 32,
   "id": "1622c686",
   "metadata": {},
   "outputs": [],
   "source": [
    "def postfixToInfix(postfix):\n",
    "    if \" \" in postfix:\n",
    "        postfix = postfix.split(\" \")\n",
    "    at = Stack()\n",
    "    for i in postfix:\n",
    "        if i in \"^$*/+-\":\n",
    "            second = at.pop()\n",
    "            first = at.pop()\n",
    "            at.push(f\"({first}{i}{second})\")\n",
    "        else:\n",
    "            at.push(i)\n",
    "    return at.top()"
   ]
  },
  {
   "cell_type": "code",
   "execution_count": 41,
   "id": "15b4839b",
   "metadata": {},
   "outputs": [
    {
     "data": {
      "text/plain": [
       "'(((f*e)+d)-(c+(b/a)))'"
      ]
     },
     "execution_count": 41,
     "metadata": {},
     "output_type": "execute_result"
    }
   ],
   "source": [
    "postfixToInfix('-+/abc+d*ef'[::-1])"
   ]
  },
  {
   "cell_type": "code",
   "execution_count": 42,
   "id": "a241b651",
   "metadata": {},
   "outputs": [],
   "source": [
    "def postfixToPrefix(postfix):\n",
    "    if \" \" in postfix:\n",
    "        postfix = postfix.split(\" \")\n",
    "    at = Stack()\n",
    "    for i in postfix:\n",
    "        if i in \"^$*/+-\":\n",
    "            second = at.pop()\n",
    "            first = at.pop()\n",
    "            at.push(f\"{i}{first}{second}\")\n",
    "        else:\n",
    "            at.push(i)\n",
    "    return at.top()"
   ]
  },
  {
   "cell_type": "code",
   "execution_count": 45,
   "id": "0faf7652",
   "metadata": {},
   "outputs": [
    {
     "data": {
      "text/plain": [
       "'+-abc'"
      ]
     },
     "execution_count": 45,
     "metadata": {},
     "output_type": "execute_result"
    }
   ],
   "source": [
    "postfixToPrefix(\"a b - c +\")"
   ]
  },
  {
   "cell_type": "code",
   "execution_count": null,
   "id": "6d0977c1",
   "metadata": {},
   "outputs": [],
   "source": []
  }
 ],
 "metadata": {
  "kernelspec": {
   "display_name": "Python 3 (ipykernel)",
   "language": "python",
   "name": "python3"
  },
  "language_info": {
   "codemirror_mode": {
    "name": "ipython",
    "version": 3
   },
   "file_extension": ".py",
   "mimetype": "text/x-python",
   "name": "python",
   "nbconvert_exporter": "python",
   "pygments_lexer": "ipython3",
   "version": "3.9.7"
  }
 },
 "nbformat": 4,
 "nbformat_minor": 5
}
