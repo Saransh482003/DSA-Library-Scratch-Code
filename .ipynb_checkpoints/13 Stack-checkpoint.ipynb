{
 "cells": [
  {
   "cell_type": "code",
   "execution_count": 7,
   "id": "9cf713e2",
   "metadata": {},
   "outputs": [],
   "source": [
    "class Stack:\n",
    "    def __init__(self):\n",
    "        self.stack = []\n",
    "    def push(self,element):\n",
    "        self.stack.append(element)\n",
    "    def pop(self):\n",
    "        return self.stack.pop(-1)\n",
    "    def top(self):\n",
    "        return self.stack[-1] if len(self.stack)>0 else None\n",
    "    def reverse(self):\n",
    "        ter = Stack()\n",
    "        while len(self.stack)>0:\n",
    "            ter.push(self.pop())\n",
    "        self.stack = ter.stack"
   ]
  },
  {
   "cell_type": "code",
   "execution_count": null,
   "id": "e8de58c3",
   "metadata": {},
   "outputs": [],
   "source": []
  }
 ],
 "metadata": {
  "kernelspec": {
   "display_name": "Python 3 (ipykernel)",
   "language": "python",
   "name": "python3"
  },
  "language_info": {
   "codemirror_mode": {
    "name": "ipython",
    "version": 3
   },
   "file_extension": ".py",
   "mimetype": "text/x-python",
   "name": "python",
   "nbconvert_exporter": "python",
   "pygments_lexer": "ipython3",
   "version": "3.9.7"
  }
 },
 "nbformat": 4,
 "nbformat_minor": 5
}
