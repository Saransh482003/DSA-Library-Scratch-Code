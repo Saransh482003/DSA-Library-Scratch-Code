{
 "cells": [
  {
   "cell_type": "code",
   "execution_count": 57,
   "id": "a8ab667a",
   "metadata": {},
   "outputs": [],
   "source": [
    "class Stack:\n",
    "    def __init__(self):\n",
    "        self.stack = []\n",
    "    def push(self,ele):\n",
    "        self.stack.append(ele)\n",
    "    def pop(self):\n",
    "        return self.stack.pop(-1)"
   ]
  },
  {
   "cell_type": "code",
   "execution_count": 74,
   "id": "64671e44",
   "metadata": {},
   "outputs": [],
   "source": [
    "class DepthFirstSearch:\n",
    "    def __init__(self, adjacency=None):\n",
    "        self.adj = {}\n",
    "        if type(adjacency)==list:\n",
    "            for i,j in enumerate(adjacency):\n",
    "                self.adj[i] = [k for k,l in enumerate(j) if l==1]\n",
    "        elif type(adjacency)==dict:\n",
    "            self.adj = adjacency\n",
    "    def add_edge(self,edge):\n",
    "        if edge[0] in self.adj:\n",
    "            self.adj[edge[0]].append(edge[1])\n",
    "        else:\n",
    "            self.adj[edge[0]] = [edge[1]]\n",
    "    def DFS(self,start):\n",
    "        s = Stack()\n",
    "        s.push(start)\n",
    "        visited = {i:False for i in self.adj}\n",
    "        path = []\n",
    "        while len(s.stack)>0:\n",
    "            r = s.pop()\n",
    "            if not visited[r]:\n",
    "                visited[r] = True\n",
    "                path.append(r)\n",
    "            for i in self.adj[r]:\n",
    "                if not visited[i]:\n",
    "                    s.push(i)\n",
    "        return path"
   ]
  },
  {
   "cell_type": "code",
   "execution_count": 83,
   "id": "da22058c",
   "metadata": {},
   "outputs": [],
   "source": [
    "ret = DepthFirstSearch({0:[1,2,4],1:[0,2],2:[0,1],3:[4,5,6],4:[0,3,7],5:[3,6,7,8],6:[3,5],7:[4,5,8],8:[5,7,9],9:[8]})"
   ]
  },
  {
   "cell_type": "code",
   "execution_count": 85,
   "id": "4518dfb1",
   "metadata": {},
   "outputs": [
    {
     "name": "stdout",
     "output_type": "stream",
     "text": [
      "[0, 4, 7, 8, 9, 5, 6, 3, 2, 1] True\n",
      "[1, 2, 0, 4, 7, 8, 9, 5, 6, 3] True\n",
      "[2, 1, 0, 4, 7, 8, 9, 5, 6, 3] True\n",
      "[3, 6, 5, 8, 9, 7, 4, 0, 2, 1] True\n",
      "[4, 7, 8, 9, 5, 6, 3, 0, 2, 1] True\n",
      "[5, 8, 9, 7, 4, 3, 6, 0, 2, 1] True\n",
      "[6, 5, 8, 9, 7, 4, 3, 0, 2, 1] True\n",
      "[7, 8, 9, 5, 6, 3, 4, 0, 2, 1] True\n",
      "[8, 9, 7, 5, 6, 3, 4, 0, 2, 1] True\n",
      "[9, 8, 7, 5, 6, 3, 4, 0, 2, 1] True\n"
     ]
    }
   ],
   "source": [
    "for i in ret.adj:\n",
    "    print(ret.DFS(i),len(ret.DFS(i))==10)"
   ]
  },
  {
   "cell_type": "code",
   "execution_count": null,
   "id": "90ae7d66",
   "metadata": {},
   "outputs": [],
   "source": []
  }
 ],
 "metadata": {
  "kernelspec": {
   "display_name": "Python 3 (ipykernel)",
   "language": "python",
   "name": "python3"
  },
  "language_info": {
   "codemirror_mode": {
    "name": "ipython",
    "version": 3
   },
   "file_extension": ".py",
   "mimetype": "text/x-python",
   "name": "python",
   "nbconvert_exporter": "python",
   "pygments_lexer": "ipython3",
   "version": "3.9.7"
  }
 },
 "nbformat": 4,
 "nbformat_minor": 5
}
