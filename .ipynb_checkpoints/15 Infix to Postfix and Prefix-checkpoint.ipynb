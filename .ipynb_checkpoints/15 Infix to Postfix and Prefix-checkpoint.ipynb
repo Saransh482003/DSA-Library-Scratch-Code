{
 "cells": [
  {
   "cell_type": "code",
   "execution_count": 1,
   "id": "50c33040",
   "metadata": {},
   "outputs": [],
   "source": [
    "class Stack:\n",
    "    def __init__(self):\n",
    "        self.stack = []\n",
    "    def push(self,element):\n",
    "        self.stack.append(element)\n",
    "    def pop(self):\n",
    "        return self.stack.pop(-1)\n",
    "    def top(self):\n",
    "        return self.stack[-1] if len(self.stack)>0 else None"
   ]
  },
  {
   "cell_type": "code",
   "execution_count": 2,
   "id": "c3e1acc8",
   "metadata": {},
   "outputs": [],
   "source": [
    "def infixToPostfix(infix):\n",
    "    infix = infix.replace(\" \",\"\")\n",
    "    d = {\"^\":3,\"$\":3,\"/\":2,\"*\":2,\"+\":1,\"-\":1}\n",
    "    postfix = \"\"\n",
    "    at = Stack()\n",
    "    for i in infix:\n",
    "        if i not in \"^$/*+-()\":\n",
    "            postfix +=i\n",
    "        else:\n",
    "            if (at.top() == None or at.top()==\"(\" or i==\"(\") and i!=\")\":\n",
    "                at.push(i)\n",
    "            else:\n",
    "                if i==\")\":\n",
    "                    while at.top()!=\"(\":\n",
    "                        postfix += at.pop()\n",
    "                    at.pop()\n",
    "                else:\n",
    "                    if d[at.top()]<d[i] or i==\"^\":\n",
    "                        at.push(i)\n",
    "                    else:\n",
    "                        while at.top()!=\"(\" and d[at.top()]>=d[i] and at.top!=None:\n",
    "                            postfix += at.pop()\n",
    "                            if at.top()==None:\n",
    "                                break\n",
    "                        at.push(i)\n",
    "    while len(at.stack)>0:\n",
    "        postfix+=at.pop()\n",
    "        \n",
    "    return postfix"
   ]
  },
  {
   "cell_type": "code",
   "execution_count": 3,
   "id": "3e650917",
   "metadata": {
    "scrolled": true
   },
   "outputs": [
    {
     "data": {
      "text/plain": [
       "'abc^^'"
      ]
     },
     "execution_count": 3,
     "metadata": {},
     "output_type": "execute_result"
    }
   ],
   "source": [
    "infixToPostfix(\"(a^(b^c))\")"
   ]
  },
  {
   "cell_type": "code",
   "execution_count": 4,
   "id": "3c7f31bf",
   "metadata": {},
   "outputs": [],
   "source": [
    "def infixToPrefix(infix):\n",
    "    rev = list(infix[::-1])\n",
    "    for i in range(len(rev)):\n",
    "        if rev[i]==\")\":\n",
    "            rev[i]=\"(\"\n",
    "        elif rev[i]==\"(\":\n",
    "            rev[i]=\")\"\n",
    "    return infixToPostfix(\"\".join(rev))[::-1]"
   ]
  },
  {
   "cell_type": "code",
   "execution_count": 5,
   "id": "28400e41",
   "metadata": {},
   "outputs": [
    {
     "data": {
      "text/plain": [
       "'*-A/BC-/AKL'"
      ]
     },
     "execution_count": 5,
     "metadata": {},
     "output_type": "execute_result"
    }
   ],
   "source": [
    "infixToPrefix(\"((A-(B/C))*((A/K)-L))\")"
   ]
  },
  {
   "cell_type": "code",
   "execution_count": null,
   "id": "454b034f",
   "metadata": {},
   "outputs": [],
   "source": []
  }
 ],
 "metadata": {
  "kernelspec": {
   "display_name": "Python 3 (ipykernel)",
   "language": "python",
   "name": "python3"
  },
  "language_info": {
   "codemirror_mode": {
    "name": "ipython",
    "version": 3
   },
   "file_extension": ".py",
   "mimetype": "text/x-python",
   "name": "python",
   "nbconvert_exporter": "python",
   "pygments_lexer": "ipython3",
   "version": "3.9.7"
  }
 },
 "nbformat": 4,
 "nbformat_minor": 5
}
