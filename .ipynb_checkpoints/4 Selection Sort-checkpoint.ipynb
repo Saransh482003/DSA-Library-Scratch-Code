{
 "cells": [
  {
   "cell_type": "code",
   "execution_count": 28,
   "id": "600e59f0",
   "metadata": {},
   "outputs": [],
   "source": [
    "def SelectionSort(array):\n",
    "    for i in range(len(array)):\n",
    "        if array[i]>array[array.index(min(array[i:]))]:\n",
    "            s = array.index(min(array[i:]))\n",
    "            array[i],array[s]=array[s],array[i]\n",
    "    return array"
   ]
  }
 ],
 "metadata": {
  "kernelspec": {
   "display_name": "Python 3 (ipykernel)",
   "language": "python",
   "name": "python3"
  },
  "language_info": {
   "codemirror_mode": {
    "name": "ipython",
    "version": 3
   },
   "file_extension": ".py",
   "mimetype": "text/x-python",
   "name": "python",
   "nbconvert_exporter": "python",
   "pygments_lexer": "ipython3",
   "version": "3.9.7"
  }
 },
 "nbformat": 4,
 "nbformat_minor": 5
}
