{
 "cells": [
  {
   "cell_type": "code",
   "execution_count": 1,
   "id": "6dbca556",
   "metadata": {},
   "outputs": [],
   "source": [
    "def merge(l1,l2):\n",
    "        for ei,i in enumerate(l2):\n",
    "            if l1[0]>=i or l1[-1]<=i:\n",
    "                l1.insert(0,i) if l1[0]>=i else l1.append(i)\n",
    "            else:\n",
    "                rep = None\n",
    "                for ej,j in enumerate(l1):\n",
    "                    if j<i and l1[ej+1]>=i:\n",
    "                        rep = ej+1\n",
    "                        break\n",
    "                l1.insert(rep,i)\n",
    "        return l1\n",
    "def MergeSort(l):\n",
    "    if 1<=len(l)<=2:\n",
    "        if len(l)==1:\n",
    "            return l\n",
    "        else:\n",
    "            if l[0]>l[-1]:\n",
    "                l.insert(1,l.pop(0))\n",
    "            return l\n",
    "    mid = len(l)//2\n",
    "    return merge(MergeSort(l[:mid]),MergeSort(l[mid:]))"
   ]
  },
  {
   "cell_type": "code",
   "execution_count": 2,
   "id": "826b439b",
   "metadata": {},
   "outputs": [],
   "source": [
    "import random"
   ]
  },
  {
   "cell_type": "code",
   "execution_count": 3,
   "id": "fb782352",
   "metadata": {},
   "outputs": [
    {
     "data": {
      "text/plain": [
       "10000"
      ]
     },
     "execution_count": 3,
     "metadata": {},
     "output_type": "execute_result"
    }
   ],
   "source": [
    "iu = []\n",
    "for i in range(10000):\n",
    "    rander = random.randint(1,30)\n",
    "    l = [random.randint(10,100) for _ in range(rander)]\n",
    "    ret = [i for i in l]\n",
    "    try:\n",
    "        iu.append(True if MergeSort(ret)==sorted(ret) else [False,l])\n",
    "    except:\n",
    "        iu.append([False,l])\n",
    "iu.count(True)"
   ]
  },
  {
   "cell_type": "code",
   "execution_count": null,
   "id": "baee1f5a",
   "metadata": {},
   "outputs": [],
   "source": []
  }
 ],
 "metadata": {
  "kernelspec": {
   "display_name": "Python 3 (ipykernel)",
   "language": "python",
   "name": "python3"
  },
  "language_info": {
   "codemirror_mode": {
    "name": "ipython",
    "version": 3
   },
   "file_extension": ".py",
   "mimetype": "text/x-python",
   "name": "python",
   "nbconvert_exporter": "python",
   "pygments_lexer": "ipython3",
   "version": "3.9.7"
  }
 },
 "nbformat": 4,
 "nbformat_minor": 5
}
