{
 "cells": [
  {
   "cell_type": "code",
   "execution_count": 28,
   "id": "7629b76f",
   "metadata": {},
   "outputs": [],
   "source": [
    "def RadixSort(array):\n",
    "    ret = [str(i) for i in array]\n",
    "    mig = len(str(max(array)))\n",
    "    det = [\"0\"*(mig-len(i))+i for i in ret]\n",
    "    d = {i:[] for i in range(10)}\n",
    "    for i in range(-1,-mig-1,-1):\n",
    "        ter = []\n",
    "        for j in det:\n",
    "            d[int(j[i])].append(j)\n",
    "        for j in d.values():\n",
    "            ter.extend(j)\n",
    "        det = [str(i) for i in ter]\n",
    "        d = {i:[] for i in range(10)}\n",
    "    return [int(i) for i in det]"
   ]
  },
  {
   "cell_type": "code",
   "execution_count": 29,
   "id": "71480662",
   "metadata": {},
   "outputs": [
    {
     "data": {
      "text/plain": [
       "[30, 38, 48, 52, 84, 88, 91, 94, 95, 100]"
      ]
     },
     "execution_count": 29,
     "metadata": {},
     "output_type": "execute_result"
    }
   ],
   "source": [
    "RadixSort([100, 91, 52, 88, 95, 94, 38, 48, 84, 30])"
   ]
  },
  {
   "cell_type": "code",
   "execution_count": 30,
   "id": "cdca9b27",
   "metadata": {},
   "outputs": [],
   "source": [
    "import random"
   ]
  },
  {
   "cell_type": "code",
   "execution_count": 35,
   "id": "cf127690",
   "metadata": {},
   "outputs": [],
   "source": [
    "iu = []\n",
    "for i in range(10000):\n",
    "    rander = random.randint(1,30)\n",
    "    l = [random.randint(10,100) for _ in range(rander)]\n",
    "    iu.append(True if RadixSort(l)==sorted(l) else [False,l])"
   ]
  },
  {
   "cell_type": "code",
   "execution_count": 36,
   "id": "e6f2104b",
   "metadata": {},
   "outputs": [
    {
     "data": {
      "text/plain": [
       "10000"
      ]
     },
     "execution_count": 36,
     "metadata": {},
     "output_type": "execute_result"
    }
   ],
   "source": [
    "iu.count(True)"
   ]
  },
  {
   "cell_type": "code",
   "execution_count": null,
   "id": "5003b796",
   "metadata": {},
   "outputs": [],
   "source": []
  }
 ],
 "metadata": {
  "kernelspec": {
   "display_name": "Python 3 (ipykernel)",
   "language": "python",
   "name": "python3"
  },
  "language_info": {
   "codemirror_mode": {
    "name": "ipython",
    "version": 3
   },
   "file_extension": ".py",
   "mimetype": "text/x-python",
   "name": "python",
   "nbconvert_exporter": "python",
   "pygments_lexer": "ipython3",
   "version": "3.9.7"
  }
 },
 "nbformat": 4,
 "nbformat_minor": 5
}
