{
 "cells": [
  {
   "cell_type": "code",
   "execution_count": 20,
   "id": "adf165d7",
   "metadata": {},
   "outputs": [],
   "source": [
    "class LinkedList:\n",
    "    def __init__(self,root):\n",
    "        self.value = root\n",
    "        self.next = None\n",
    "        self.previous = None\n",
    "        \n",
    "        \n",
    "    def append(self,element):\n",
    "        if self.value:\n",
    "            if self.next==None:\n",
    "                self.next = LinkedList(element)\n",
    "                self.next.previous = self\n",
    "            else:\n",
    "                self.next.append(element)\n",
    "                \n",
    "    def insert(self,element,position):\n",
    "        if position==0:\n",
    "            if self.previous:\n",
    "                prev = self.previous\n",
    "                self.previous.next = LinkedList(element)\n",
    "                self.previous.next.previous = prev\n",
    "                self.previous.next.next = self\n",
    "                self.previous.next.next.previous = self.previous.next\n",
    "            else:\n",
    "                if self.previous!=None:\n",
    "                    self.previous.insert(element,0)\n",
    "                else:\n",
    "                    self.previous = LinkedList(element)\n",
    "                    self.previous.next = self\n",
    "        else:\n",
    "            print(self.value)\n",
    "            self.next.insert(element,position-1)\n",
    "                \n",
    "                "
   ]
  },
  {
   "cell_type": "code",
   "execution_count": 21,
   "id": "7bafc077",
   "metadata": {},
   "outputs": [],
   "source": [
    "ret = LinkedList(5)"
   ]
  },
  {
   "cell_type": "code",
   "execution_count": 22,
   "id": "a86f8127",
   "metadata": {},
   "outputs": [],
   "source": [
    "ret.append(4)"
   ]
  },
  {
   "cell_type": "code",
   "execution_count": 23,
   "id": "d5285e69",
   "metadata": {},
   "outputs": [],
   "source": [
    "ret.append(3)"
   ]
  },
  {
   "cell_type": "code",
   "execution_count": 24,
   "id": "b4986813",
   "metadata": {},
   "outputs": [
    {
     "data": {
      "text/plain": [
       "3"
      ]
     },
     "execution_count": 24,
     "metadata": {},
     "output_type": "execute_result"
    }
   ],
   "source": [
    "ret.next.previous.next.next.previous.next.value"
   ]
  },
  {
   "cell_type": "code",
   "execution_count": 28,
   "id": "7eedfd2a",
   "metadata": {},
   "outputs": [],
   "source": [
    "ret.insert(9,0)"
   ]
  },
  {
   "cell_type": "code",
   "execution_count": 29,
   "id": "5050b967",
   "metadata": {},
   "outputs": [
    {
     "data": {
      "text/plain": [
       "9"
      ]
     },
     "execution_count": 29,
     "metadata": {},
     "output_type": "execute_result"
    }
   ],
   "source": [
    "ret.previous.value"
   ]
  },
  {
   "cell_type": "code",
   "execution_count": null,
   "id": "0d70313d",
   "metadata": {},
   "outputs": [],
   "source": []
  }
 ],
 "metadata": {
  "kernelspec": {
   "display_name": "Python 3 (ipykernel)",
   "language": "python",
   "name": "python3"
  },
  "language_info": {
   "codemirror_mode": {
    "name": "ipython",
    "version": 3
   },
   "file_extension": ".py",
   "mimetype": "text/x-python",
   "name": "python",
   "nbconvert_exporter": "python",
   "pygments_lexer": "ipython3",
   "version": "3.9.7"
  }
 },
 "nbformat": 4,
 "nbformat_minor": 5
}
