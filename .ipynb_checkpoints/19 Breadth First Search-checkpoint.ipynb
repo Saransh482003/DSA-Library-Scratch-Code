{
 "cells": [
  {
   "cell_type": "code",
   "execution_count": 26,
   "id": "c1fdccf8",
   "metadata": {},
   "outputs": [],
   "source": [
    "class Queue:\n",
    "    def __init__(self):\n",
    "        self.queue = []\n",
    "    def enqueue(self, ele):\n",
    "        self.queue.append(ele)\n",
    "    def dequeue(self):\n",
    "        return self.queue.pop(0)"
   ]
  },
  {
   "cell_type": "code",
   "execution_count": 27,
   "id": "d3fbdaf7",
   "metadata": {},
   "outputs": [],
   "source": [
    "class BreadthFirstSearch:\n",
    "    def __init__(self,adjacency = None):\n",
    "        self.adj = {}\n",
    "        if type(adjacency)==list:\n",
    "            for i,j in enumerate(adjacency):\n",
    "                self.adj[i] = [k for k,l in enumerate(j) if l==1]\n",
    "        elif type(adjacency)==dict:\n",
    "            self.adj = adjacency\n",
    "    def add_edge(self, edge):\n",
    "        if edge[0] in self.adj:\n",
    "            self.adj[edge[0]].append(edge[1])\n",
    "        else:\n",
    "            self.adj[edge[0]] = [edge[1]]\n",
    "    def BFS(self, start):\n",
    "        visited = {i:False for i in self.adj}\n",
    "        q = Queue()\n",
    "        q.enqueue(start)\n",
    "        path = []\n",
    "        while len(q.queue)>0:\n",
    "            ret = q.dequeue()\n",
    "            if not visited[ret]:\n",
    "                visited[ret] = True\n",
    "                path.append(ret)\n",
    "            for i in self.adj[ret]:\n",
    "                if not visited[i]:\n",
    "                    q.enqueue(i)\n",
    "        return path"
   ]
  },
  {
   "cell_type": "code",
   "execution_count": 28,
   "id": "a35db6d7",
   "metadata": {},
   "outputs": [],
   "source": [
    "ret = BreadthFirstSearch({0:[1,2,4],1:[0,2],2:[0,1],3:[4,5,6],4:[0,3,7],5:[3,6,7,8],6:[3,5],7:[4,5,8],8:[5,7,9],9:[8]})"
   ]
  },
  {
   "cell_type": "code",
   "execution_count": 25,
   "id": "15b694cb",
   "metadata": {},
   "outputs": [
    {
     "name": "stdout",
     "output_type": "stream",
     "text": [
      "[0, 1, 2, 4, 3, 7, 5, 6, 8, 9] True\n",
      "[1, 0, 2, 4, 3, 7, 5, 6, 8, 9] True\n",
      "[2, 0, 1, 4, 3, 7, 5, 6, 8, 9] True\n",
      "[3, 4, 5, 6, 0, 7, 8, 1, 2, 9] True\n",
      "[4, 0, 3, 7, 1, 2, 5, 6, 8, 9] True\n",
      "[5, 3, 6, 7, 8, 4, 9, 0, 1, 2] True\n",
      "[6, 3, 5, 4, 7, 8, 0, 9, 1, 2] True\n",
      "[7, 4, 5, 8, 0, 3, 6, 9, 1, 2] True\n",
      "[8, 5, 7, 9, 3, 6, 4, 0, 1, 2] True\n",
      "[9, 8, 5, 7, 3, 6, 4, 0, 1, 2] True\n"
     ]
    }
   ],
   "source": [
    "for i in range(10):\n",
    "    print(ret.BFS(i),len(ret.BFS(i))==10)"
   ]
  },
  {
   "cell_type": "code",
   "execution_count": null,
   "id": "3a19c1e6",
   "metadata": {},
   "outputs": [],
   "source": []
  }
 ],
 "metadata": {
  "kernelspec": {
   "display_name": "Python 3 (ipykernel)",
   "language": "python",
   "name": "python3"
  },
  "language_info": {
   "codemirror_mode": {
    "name": "ipython",
    "version": 3
   },
   "file_extension": ".py",
   "mimetype": "text/x-python",
   "name": "python",
   "nbconvert_exporter": "python",
   "pygments_lexer": "ipython3",
   "version": "3.9.7"
  }
 },
 "nbformat": 4,
 "nbformat_minor": 5
}
