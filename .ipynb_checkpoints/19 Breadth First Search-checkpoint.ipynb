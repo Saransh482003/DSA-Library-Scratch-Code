{
 "cells": [
  {
   "cell_type": "code",
   "execution_count": 1,
   "id": "c1fdccf8",
   "metadata": {},
   "outputs": [],
   "source": [
    "class Queue:\n",
    "    def __init__(self):\n",
    "        self.queue = []\n",
    "    def enqueue(self, ele):\n",
    "        self.queue.append(ele)\n",
    "    def dequeue(self):\n",
    "        return self.queue.pop(0)"
   ]
  },
  {
   "cell_type": "code",
   "execution_count": 2,
   "id": "d3fbdaf7",
   "metadata": {},
   "outputs": [],
   "source": [
    "class BreadthFirstSearch:\n",
    "    def __init__(self,adjacency = None):\n",
    "        self.adj = {}\n",
    "        if type(adjacency)==list:\n",
    "            for i,j in enumerate(adjacency):\n",
    "                self.adj[i] = [k for k,l in enumerate(j) if l==1]\n",
    "        elif type(adjacency)==dict:\n",
    "            self.adj = adjacency\n",
    "    def add_edge(self, edge):\n",
    "        if edge[0] in self.adj:\n",
    "            self.adj[edge[0]].append(edge[1])\n",
    "        else:\n",
    "            self.adj[edge[0]] = [edge[1]]\n",
    "    def BFS(self, start):\n",
    "        visited = {i:False for i in self.adj}\n",
    "        q = Queue()\n",
    "        q.enqueue(start)\n",
    "        path = []\n",
    "        while len(q.queue)>0:\n",
    "            ret = q.dequeue()\n",
    "            if not visited[ret]:\n",
    "                visited[ret] = True\n",
    "                path.append(ret)\n",
    "            for i in self.adj[ret]:\n",
    "                if not visited[i]:\n",
    "                    q.enqueue(i)\n",
    "        return path"
   ]
  },
  {
   "cell_type": "code",
   "execution_count": 28,
   "id": "a35db6d7",
   "metadata": {},
   "outputs": [],
   "source": [
    "ret = BreadthFirstSearch({0:[1,2,4],1:[0,2],2:[0,1],3:[4,5,6],4:[0,3,7],5:[3,6,7,8],6:[3,5],7:[4,5,8],8:[5,7,9],9:[8]})"
   ]
  },
  {
   "cell_type": "code",
   "execution_count": 25,
   "id": "15b694cb",
   "metadata": {},
   "outputs": [
    {
     "name": "stdout",
     "output_type": "stream",
     "text": [
      "[0, 1, 2, 4, 3, 7, 5, 6, 8, 9] True\n",
      "[1, 0, 2, 4, 3, 7, 5, 6, 8, 9] True\n",
      "[2, 0, 1, 4, 3, 7, 5, 6, 8, 9] True\n",
      "[3, 4, 5, 6, 0, 7, 8, 1, 2, 9] True\n",
      "[4, 0, 3, 7, 1, 2, 5, 6, 8, 9] True\n",
      "[5, 3, 6, 7, 8, 4, 9, 0, 1, 2] True\n",
      "[6, 3, 5, 4, 7, 8, 0, 9, 1, 2] True\n",
      "[7, 4, 5, 8, 0, 3, 6, 9, 1, 2] True\n",
      "[8, 5, 7, 9, 3, 6, 4, 0, 1, 2] True\n",
      "[9, 8, 5, 7, 3, 6, 4, 0, 1, 2] True\n"
     ]
    }
   ],
   "source": [
    "for i in range(10):\n",
    "    print(ret.BFS(i),len(ret.BFS(i))==10)"
   ]
  },
  {
   "cell_type": "code",
   "execution_count": 3,
   "id": "3a19c1e6",
   "metadata": {},
   "outputs": [],
   "source": [
    "ret = {\n",
    "            1: [2, 3],\n",
    "            2: [4, 5],\n",
    "            3: [],\n",
    "            4: [6],\n",
    "            5: [],\n",
    "            6: []\n",
    "        }"
   ]
  },
  {
   "cell_type": "code",
   "execution_count": 4,
   "id": "7eaa15b8",
   "metadata": {},
   "outputs": [],
   "source": [
    "bfs = BreadthFirstSearch(ret)"
   ]
  },
  {
   "cell_type": "code",
   "execution_count": 5,
   "id": "a97b4918",
   "metadata": {},
   "outputs": [
    {
     "data": {
      "text/plain": [
       "[1, 2, 3, 4, 5, 6]"
      ]
     },
     "execution_count": 5,
     "metadata": {},
     "output_type": "execute_result"
    }
   ],
   "source": [
    "bfs.BFS(1)"
   ]
  },
  {
   "cell_type": "code",
   "execution_count": 6,
   "id": "1f4917c0",
   "metadata": {},
   "outputs": [],
   "source": [
    "bfs_test_cases = [\n",
    "    {\n",
    "        'graph': {\n",
    "            1: [2, 3],\n",
    "            2: [4, 5],\n",
    "            3: [],\n",
    "            4: [6],\n",
    "            5: [],\n",
    "            6: []\n",
    "        },\n",
    "        'start_vertex': 1,\n",
    "        'correct_bfs_path': [1, 2, 3, 4, 5, 6]\n",
    "    },\n",
    "    {\n",
    "        'graph': {\n",
    "            'A': ['B', 'C'],\n",
    "            'B': ['D', 'E'],\n",
    "            'C': ['F'],\n",
    "            'D': [],\n",
    "            'E': [],\n",
    "            'F': []\n",
    "        },\n",
    "        'start_vertex': 'A',\n",
    "        'correct_bfs_path': ['A', 'B', 'C', 'D', 'E', 'F']\n",
    "    },\n",
    "    {\n",
    "        'graph': {\n",
    "            'X': ['Y', 'Z'],\n",
    "            'Y': ['A'],\n",
    "            'Z': ['B'],\n",
    "            'A': ['C'],\n",
    "            'B': ['D'],\n",
    "            'C': ['D'],\n",
    "            'D': []\n",
    "        },\n",
    "        'start_vertex': 'X',\n",
    "        'correct_bfs_path': ['X', 'Y', 'Z', 'A', 'B', 'C', 'D']\n",
    "    },\n",
    "    {\n",
    "        'graph': {\n",
    "            1: [2, 3],\n",
    "            2: [4],\n",
    "            3: [5],\n",
    "            4: [6],\n",
    "            5: [],\n",
    "            6: []\n",
    "        },\n",
    "        'start_vertex': 1,\n",
    "        'correct_bfs_path': [1, 2, 3, 4, 5, 6]\n",
    "    },\n",
    "    {\n",
    "        'graph': {\n",
    "            'P': ['Q', 'R'],\n",
    "            'Q': [],\n",
    "            'R': ['S'],\n",
    "            'S': ['T'],\n",
    "            'T': [],\n",
    "        },\n",
    "        'start_vertex': 'P',\n",
    "        'correct_bfs_path': ['P', 'Q', 'R', 'S', 'T']\n",
    "    },\n",
    "    {\n",
    "        'graph': {\n",
    "            'M': ['N'],\n",
    "            'N': ['O', 'P'],\n",
    "            'O': ['Q'],\n",
    "            'P': [],\n",
    "            'Q': []\n",
    "        },\n",
    "        'start_vertex': 'M',\n",
    "        'correct_bfs_path': ['M', 'N', 'O', 'P', 'Q']\n",
    "    },\n",
    "    {\n",
    "        'graph': {\n",
    "            'A': ['B', 'C'],\n",
    "            'B': ['D'],\n",
    "            'C': ['E', 'F'],\n",
    "            'D': [],\n",
    "            'E': [],\n",
    "            'F': []\n",
    "        },\n",
    "        'start_vertex': 'A',\n",
    "        'correct_bfs_path': ['A', 'B', 'C', 'D', 'E', 'F']\n",
    "    },\n",
    "    {\n",
    "        'graph': {\n",
    "            1: [2, 3, 4],\n",
    "            2: [],\n",
    "            3: [5, 6],\n",
    "            4: [],\n",
    "            5: [],\n",
    "            6: []\n",
    "        },\n",
    "        'start_vertex': 1,\n",
    "        'correct_bfs_path': [1, 2, 3, 4, 5, 6]\n",
    "    },\n",
    "    {\n",
    "        'graph': {\n",
    "            'X': ['Y', 'Z'],\n",
    "            'Y': ['A', 'B'],\n",
    "            'Z': ['C'],\n",
    "            'A': [],\n",
    "            'B': [],\n",
    "            'C': []\n",
    "        },\n",
    "        'start_vertex': 'X',\n",
    "        'correct_bfs_path': ['X', 'Y', 'Z', 'A', 'B', 'C']\n",
    "    },\n",
    "    {\n",
    "        'graph': {\n",
    "            'R': ['S', 'T'],\n",
    "            'S': ['U'],\n",
    "            'T': ['V'],\n",
    "            'U': [],\n",
    "            'V': ['W'],\n",
    "            'W': []\n",
    "        },\n",
    "        'start_vertex': 'R',\n",
    "        'correct_bfs_path': ['R', 'S', 'T', 'U', 'V', 'W']\n",
    "    }\n",
    "]\n"
   ]
  },
  {
   "cell_type": "code",
   "execution_count": 8,
   "id": "e2114480",
   "metadata": {},
   "outputs": [
    {
     "name": "stdout",
     "output_type": "stream",
     "text": [
      "[1, 2, 3, 4, 5, 6] [1, 2, 3, 4, 5, 6]\n",
      "True\n",
      "['A', 'B', 'C', 'D', 'E', 'F'] ['A', 'B', 'C', 'D', 'E', 'F']\n",
      "True\n",
      "['X', 'Y', 'Z', 'A', 'B', 'C', 'D'] ['X', 'Y', 'Z', 'A', 'B', 'C', 'D']\n",
      "True\n",
      "[1, 2, 3, 4, 5, 6] [1, 2, 3, 4, 5, 6]\n",
      "True\n",
      "['P', 'Q', 'R', 'S', 'T'] ['P', 'Q', 'R', 'S', 'T']\n",
      "True\n",
      "['M', 'N', 'O', 'P', 'Q'] ['M', 'N', 'O', 'P', 'Q']\n",
      "True\n",
      "['A', 'B', 'C', 'D', 'E', 'F'] ['A', 'B', 'C', 'D', 'E', 'F']\n",
      "True\n",
      "[1, 2, 3, 4, 5, 6] [1, 2, 3, 4, 5, 6]\n",
      "True\n",
      "['X', 'Y', 'Z', 'A', 'B', 'C'] ['X', 'Y', 'Z', 'A', 'B', 'C']\n",
      "True\n",
      "['R', 'S', 'T', 'U', 'V', 'W'] ['R', 'S', 'T', 'U', 'V', 'W']\n",
      "True\n"
     ]
    }
   ],
   "source": [
    "for i in bfs_test_cases:\n",
    "    bfs = BreadthFirstSearch(i[\"graph\"])\n",
    "    print(bfs.BFS(i[\"start_vertex\"]),i[\"correct_bfs_path\"])\n",
    "    print(bfs.BFS(i[\"start_vertex\"])==i[\"correct_bfs_path\"])"
   ]
  },
  {
   "cell_type": "code",
   "execution_count": null,
   "id": "a88e0b06",
   "metadata": {},
   "outputs": [],
   "source": []
  }
 ],
 "metadata": {
  "kernelspec": {
   "display_name": "Python 3 (ipykernel)",
   "language": "python",
   "name": "python3"
  },
  "language_info": {
   "codemirror_mode": {
    "name": "ipython",
    "version": 3
   },
   "file_extension": ".py",
   "mimetype": "text/x-python",
   "name": "python",
   "nbconvert_exporter": "python",
   "pygments_lexer": "ipython3",
   "version": "3.9.7"
  }
 },
 "nbformat": 4,
 "nbformat_minor": 5
}
