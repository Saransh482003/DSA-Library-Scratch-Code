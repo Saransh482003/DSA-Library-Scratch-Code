{
 "cells": [
  {
   "cell_type": "code",
   "execution_count": 4,
   "id": "cf7fb94d",
   "metadata": {},
   "outputs": [],
   "source": [
    "class Queue:\n",
    "    def __init__(self):\n",
    "        self.queue = []\n",
    "    def enqueue(self, element):\n",
    "        self.queue.append(element)\n",
    "    def dequeue(self):\n",
    "        return self.queue.pop(0)"
   ]
  },
  {
   "cell_type": "code",
   "execution_count": 1,
   "id": "d82ed0cd",
   "metadata": {},
   "outputs": [],
   "source": [
    "adj_list = {0:[1,2,4],1:[0,2],2:[0,1],3:[4,5,6],4:[0,3,7],5:[3,6,7,8],6:[3,5],7:[4,5,8],8:[5,7,9],9:[8]}"
   ]
  },
  {
   "cell_type": "code",
   "execution_count": 2,
   "id": "629b6920",
   "metadata": {},
   "outputs": [],
   "source": [
    "origin = 0"
   ]
  },
  {
   "cell_type": "code",
   "execution_count": 7,
   "id": "86492451",
   "metadata": {},
   "outputs": [],
   "source": [
    "visited = [origin]"
   ]
  },
  {
   "cell_type": "code",
   "execution_count": 6,
   "id": "806290ba",
   "metadata": {},
   "outputs": [],
   "source": [
    "que = Queue()"
   ]
  },
  {
   "cell_type": "code",
   "execution_count": 8,
   "id": "d75726e0",
   "metadata": {},
   "outputs": [
    {
     "ename": "IndentationError",
     "evalue": "expected an indented block (Temp/ipykernel_15784/2960099273.py, line 2)",
     "output_type": "error",
     "traceback": [
      "\u001b[1;36m  File \u001b[1;32m\"C:\\Users\\Saransh\\AppData\\Local\\Temp/ipykernel_15784/2960099273.py\"\u001b[1;36m, line \u001b[1;32m2\u001b[0m\n\u001b[1;33m    \u001b[0m\n\u001b[1;37m    ^\u001b[0m\n\u001b[1;31mIndentationError\u001b[0m\u001b[1;31m:\u001b[0m expected an indented block\n"
     ]
    }
   ],
   "source": [
    "while len(visited)!=len(adj_list):\n",
    "    visited"
   ]
  },
  {
   "cell_type": "code",
   "execution_count": null,
   "id": "c1fdccf8",
   "metadata": {},
   "outputs": [],
   "source": []
  }
 ],
 "metadata": {
  "kernelspec": {
   "display_name": "Python 3 (ipykernel)",
   "language": "python",
   "name": "python3"
  },
  "language_info": {
   "codemirror_mode": {
    "name": "ipython",
    "version": 3
   },
   "file_extension": ".py",
   "mimetype": "text/x-python",
   "name": "python",
   "nbconvert_exporter": "python",
   "pygments_lexer": "ipython3",
   "version": "3.9.7"
  }
 },
 "nbformat": 4,
 "nbformat_minor": 5
}
