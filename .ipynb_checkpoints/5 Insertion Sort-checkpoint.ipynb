{
 "cells": [
  {
   "cell_type": "code",
   "execution_count": 28,
   "id": "e6478125",
   "metadata": {},
   "outputs": [],
   "source": [
    "def retter(rep,s):\n",
    "    for ei,i in enumerate(rep):\n",
    "        if i<s and rep[ei+1]>=s:\n",
    "            return ei+1\n",
    "def InsertionSort(array):\n",
    "    l = array\n",
    "    ret = [l[0]]\n",
    "    for ei,i in enumerate(l[1:]):\n",
    "        if len(ret)==1:\n",
    "            ret.append(i)\n",
    "            if ret[0]>i:\n",
    "                ret[0],ret[-1]=ret[-1],ret[0]\n",
    "        else:\n",
    "            if ret[0]>=i or ret[-1]<=i:\n",
    "                ret.insert(0,i) if ret[0]>=i else ret.append(i)\n",
    "            else:\n",
    "                ret.insert(retter(ret,i),i)\n",
    "    return ret"
   ]
  },
  {
   "cell_type": "code",
   "execution_count": 29,
   "id": "6f70a974",
   "metadata": {},
   "outputs": [],
   "source": [
    "import random"
   ]
  },
  {
   "cell_type": "code",
   "execution_count": 30,
   "id": "d2952cf4",
   "metadata": {},
   "outputs": [],
   "source": [
    "iu = []\n",
    "for i in range(1000):\n",
    "    rander = random.randint(1,30)\n",
    "    l = [random.randint(10,100) for _ in range(rander)]\n",
    "    try:\n",
    "        iu.append(InsertionSort(l)==sorted(l))\n",
    "    except:\n",
    "        iu.append([False,l])"
   ]
  },
  {
   "cell_type": "code",
   "execution_count": 31,
   "id": "d90ad4de",
   "metadata": {},
   "outputs": [
    {
     "data": {
      "text/plain": [
       "1000"
      ]
     },
     "execution_count": 31,
     "metadata": {},
     "output_type": "execute_result"
    }
   ],
   "source": [
    "iu.count(True)"
   ]
  },
  {
   "cell_type": "code",
   "execution_count": null,
   "id": "78951563",
   "metadata": {},
   "outputs": [],
   "source": []
  }
 ],
 "metadata": {
  "kernelspec": {
   "display_name": "Python 3 (ipykernel)",
   "language": "python",
   "name": "python3"
  },
  "language_info": {
   "codemirror_mode": {
    "name": "ipython",
    "version": 3
   },
   "file_extension": ".py",
   "mimetype": "text/x-python",
   "name": "python",
   "nbconvert_exporter": "python",
   "pygments_lexer": "ipython3",
   "version": "3.9.7"
  }
 },
 "nbformat": 4,
 "nbformat_minor": 5
}
