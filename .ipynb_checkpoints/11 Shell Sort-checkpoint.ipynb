{
 "cells": [
  {
   "cell_type": "code",
   "execution_count": 4,
   "id": "e963e049",
   "metadata": {},
   "outputs": [],
   "source": [
    "def InsertionSort(array):\n",
    "    l = array\n",
    "    per = 1\n",
    "    while per<len(l):\n",
    "        ele = l[per]\n",
    "        if l[0]>ele:\n",
    "            l.insert(0,l.pop(per))\n",
    "        else:\n",
    "            for i in range(len(l[:per])):\n",
    "                if l[i]<ele and l[i+1]>=ele:\n",
    "                    l.insert(i+1,l.pop(per))\n",
    "                    break\n",
    "                elif l[i]<=ele and l[i+1]>ele:\n",
    "                    l.insert(i+1,l.pop(per))\n",
    "                    break\n",
    "        per+=1\n",
    "    return l"
   ]
  },
  {
   "cell_type": "code",
   "execution_count": 16,
   "id": "07e3f20a",
   "metadata": {},
   "outputs": [],
   "source": [
    "def ShellSort(array,div=None):\n",
    "    if not div:\n",
    "        div = len(array)//2\n",
    "    if div<=1:\n",
    "        return InsertionSort(array)\n",
    "    for i in range(div):\n",
    "        ret = []\n",
    "        ter = []\n",
    "        for j in range(i,len(array),div):\n",
    "            ret.append(j)\n",
    "            ter.append(array[j])\n",
    "        ter = InsertionSort(ter)\n",
    "        for j,k in zip(ret,ter):\n",
    "            array[j] = k\n",
    "    return ShellSort(array,div//2)"
   ]
  },
  {
   "cell_type": "code",
   "execution_count": 18,
   "id": "9c9b3c09",
   "metadata": {},
   "outputs": [],
   "source": [
    "import random"
   ]
  },
  {
   "cell_type": "code",
   "execution_count": 20,
   "id": "89c606a2",
   "metadata": {},
   "outputs": [
    {
     "data": {
      "text/plain": [
       "10000"
      ]
     },
     "execution_count": 20,
     "metadata": {},
     "output_type": "execute_result"
    }
   ],
   "source": [
    "iu = []\n",
    "for i in range(10000):\n",
    "    rander = random.randint(1,100)\n",
    "    l = [random.randint(10,100) for _ in range(rander)]\n",
    "    ret = [i for i in l]\n",
    "    try:\n",
    "        iu.append(True if ShellSort(ret)==sorted(ret) else [False,l])\n",
    "    except:\n",
    "        iu.append([False,l])\n",
    "iu.count(True)"
   ]
  },
  {
   "cell_type": "code",
   "execution_count": null,
   "id": "07b6ebf3",
   "metadata": {},
   "outputs": [],
   "source": []
  }
 ],
 "metadata": {
  "kernelspec": {
   "display_name": "Python 3 (ipykernel)",
   "language": "python",
   "name": "python3"
  },
  "language_info": {
   "codemirror_mode": {
    "name": "ipython",
    "version": 3
   },
   "file_extension": ".py",
   "mimetype": "text/x-python",
   "name": "python",
   "nbconvert_exporter": "python",
   "pygments_lexer": "ipython3",
   "version": "3.9.7"
  }
 },
 "nbformat": 4,
 "nbformat_minor": 5
}
