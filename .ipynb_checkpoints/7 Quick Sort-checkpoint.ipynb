{
 "cells": [
  {
   "cell_type": "code",
   "execution_count": 5,
   "id": "04f2f5fb",
   "metadata": {},
   "outputs": [],
   "source": [
    "def merger(l1,l2,j):\n",
    "    l1.append(j)\n",
    "    for i in l2:\n",
    "        l1.append(i)\n",
    "    return l1\n",
    "def QuickSort(l):\n",
    "    if 0<=len(l)<=2:\n",
    "        if len(l)==2:\n",
    "            if l[0]>l[1]:\n",
    "                l[0],l[1]=l[1],l[0]\n",
    "            return l\n",
    "        elif len(l)==1:\n",
    "            return l\n",
    "        else:\n",
    "            return []\n",
    "    \n",
    "    pivot = l[0]\n",
    "    i = 1\n",
    "    j = len(l)-1\n",
    "    while i<j:\n",
    "        try:\n",
    "            while not l[i]>pivot and i<len(l):\n",
    "                i+=1\n",
    "        except:\n",
    "            i=len(l)-1\n",
    "        try:\n",
    "            while not l[j]<pivot and j>0:\n",
    "                j-=1\n",
    "        except:\n",
    "            j=0\n",
    "        if i>=j:\n",
    "            l[j],l[0]=pivot,l[j]\n",
    "        else:\n",
    "            l[i],l[j]=l[j],l[i]\n",
    "    return merger(QuickSort(l[:j]),QuickSort(l[j+1:]),l[j])"
   ]
  },
  {
   "cell_type": "code",
   "execution_count": 6,
   "id": "90a302fe",
   "metadata": {},
   "outputs": [],
   "source": [
    "import random"
   ]
  },
  {
   "cell_type": "code",
   "execution_count": 9,
   "id": "5591360d",
   "metadata": {},
   "outputs": [],
   "source": [
    "iu = []\n",
    "for i in range(10000):\n",
    "    rander = random.randint(1,100)\n",
    "    l = [random.randint(10,100) for _ in range(rander)]\n",
    "    iu.append(QuickSort(l)==sorted(l))"
   ]
  },
  {
   "cell_type": "code",
   "execution_count": 10,
   "id": "163b5d63",
   "metadata": {},
   "outputs": [
    {
     "data": {
      "text/plain": [
       "10000"
      ]
     },
     "execution_count": 10,
     "metadata": {},
     "output_type": "execute_result"
    }
   ],
   "source": [
    "iu.count(True)"
   ]
  },
  {
   "cell_type": "code",
   "execution_count": null,
   "id": "5b2eb3d4",
   "metadata": {},
   "outputs": [],
   "source": []
  }
 ],
 "metadata": {
  "kernelspec": {
   "display_name": "Python 3 (ipykernel)",
   "language": "python",
   "name": "python3"
  },
  "language_info": {
   "codemirror_mode": {
    "name": "ipython",
    "version": 3
   },
   "file_extension": ".py",
   "mimetype": "text/x-python",
   "name": "python",
   "nbconvert_exporter": "python",
   "pygments_lexer": "ipython3",
   "version": "3.9.7"
  }
 },
 "nbformat": 4,
 "nbformat_minor": 5
}
