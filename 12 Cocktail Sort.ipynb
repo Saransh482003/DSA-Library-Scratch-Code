{
 "cells": [
  {
   "cell_type": "code",
   "execution_count": 38,
   "id": "716f8d8c",
   "metadata": {},
   "outputs": [],
   "source": [
    "def CocktailSort(array):\n",
    "    l = array\n",
    "    last = len(l)-1\n",
    "    first = 0\n",
    "    while first<len(l)//2:\n",
    "    \n",
    "        for i in range(first,last):\n",
    "            if l[i]>l[i+1]:\n",
    "                l[i],l[i+1]=l[i+1],l[i]\n",
    "        last -= 1\n",
    "\n",
    "        for i in range(last,first,-1):\n",
    "            if l[i]<l[i-1]:\n",
    "                l[i],l[i-1]=l[i-1],l[i]\n",
    "        first += 1\n",
    "    return l"
   ]
  },
  {
   "cell_type": "code",
   "execution_count": 40,
   "id": "47e3e9e2",
   "metadata": {},
   "outputs": [],
   "source": [
    "import random"
   ]
  },
  {
   "cell_type": "code",
   "execution_count": 43,
   "id": "868a4724",
   "metadata": {},
   "outputs": [
    {
     "data": {
      "text/plain": [
       "10000"
      ]
     },
     "execution_count": 43,
     "metadata": {},
     "output_type": "execute_result"
    }
   ],
   "source": [
    "iu = []\n",
    "for i in range(10000):\n",
    "    rander = random.randint(1,100)\n",
    "    l = [random.randint(10,100) for _ in range(rander)]\n",
    "    ret = [i for i in l]\n",
    "    try:\n",
    "        iu.append(True if CocktailSort(ret)==sorted(ret) else [False,l])\n",
    "    except:\n",
    "        iu.append([False,l])\n",
    "iu.count(True)"
   ]
  },
  {
   "cell_type": "code",
   "execution_count": null,
   "id": "a16f0df8",
   "metadata": {},
   "outputs": [],
   "source": []
  }
 ],
 "metadata": {
  "kernelspec": {
   "display_name": "Python 3 (ipykernel)",
   "language": "python",
   "name": "python3"
  },
  "language_info": {
   "codemirror_mode": {
    "name": "ipython",
    "version": 3
   },
   "file_extension": ".py",
   "mimetype": "text/x-python",
   "name": "python",
   "nbconvert_exporter": "python",
   "pygments_lexer": "ipython3",
   "version": "3.9.7"
  }
 },
 "nbformat": 4,
 "nbformat_minor": 5
}
