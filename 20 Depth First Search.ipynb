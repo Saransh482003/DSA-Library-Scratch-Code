{
 "cells": [
  {
   "cell_type": "code",
   "execution_count": 16,
   "id": "a8ab667a",
   "metadata": {},
   "outputs": [],
   "source": [
    "class Stack:\n",
    "    def __init__(self):\n",
    "        self.stack = []\n",
    "    def push(self,ele):\n",
    "        self.stack.append(ele)\n",
    "    def poper(self):\n",
    "        return self.stack.pop(-1)"
   ]
  },
  {
   "cell_type": "code",
   "execution_count": 51,
   "id": "64671e44",
   "metadata": {},
   "outputs": [],
   "source": [
    "class DepthFirstSearch:\n",
    "    def __init__(self, adjacency=None):\n",
    "        self.adj = {}\n",
    "        if type(adjacency)==list:\n",
    "            for i,j in enumerate(adjacency):\n",
    "                self.adj[i] = [k for k,l in enumerate(j) if l!=0]\n",
    "        elif type(adjacency)==dict:\n",
    "            self.adj = adjacency\n",
    "    def add_edge(self,edge):\n",
    "        if edge[0] in self.adj:\n",
    "            self.adj[edge[0]].append(edge[1])\n",
    "        else:\n",
    "            self.adj[edge[0]] = [edge[1]]\n",
    "    def DFS(self,start):\n",
    "        s = Stack()\n",
    "        s.push(start)\n",
    "        path=[]\n",
    "        explored = {i:False for i in self.adj}\n",
    "        while sum(explored.values())!=len(explored):\n",
    "            val = s.poper()\n",
    "            explored[val]=True\n",
    "            path.append(val)\n",
    "            conn_tray = self.adj[val]\n",
    "            \n",
    "            for i in conn_tray:\n",
    "                if not explored[i]:\n",
    "                    s.push(i)\n",
    "        return path"
   ]
  },
  {
   "cell_type": "code",
   "execution_count": 52,
   "id": "da22058c",
   "metadata": {},
   "outputs": [],
   "source": [
    "ret = DepthFirstSearch({\n",
    "    1: [2, 3],\n",
    "    2: [4, 5],\n",
    "    3: [],\n",
    "    4: [6],\n",
    "    5: [],\n",
    "    6: []\n",
    "}\n",
    ")"
   ]
  },
  {
   "cell_type": "code",
   "execution_count": 53,
   "id": "abe3328f",
   "metadata": {},
   "outputs": [
    {
     "data": {
      "text/plain": [
       "[1, 3, 2, 5, 4, 6]"
      ]
     },
     "execution_count": 53,
     "metadata": {},
     "output_type": "execute_result"
    }
   ],
   "source": [
    "ret.DFS(1)"
   ]
  },
  {
   "cell_type": "code",
   "execution_count": 54,
   "id": "d5422c59",
   "metadata": {},
   "outputs": [],
   "source": [
    "graphs_and_dfs_paths = [\n",
    "    {\n",
    "        'graph': {\n",
    "            1: [2, 3],\n",
    "            2: [4, 5],\n",
    "            3: [],\n",
    "            4: [6],\n",
    "            5: [],\n",
    "            6: []\n",
    "        },\n",
    "        'start_vertex': 1,\n",
    "        'correct_dfs_path': [1, 2, 4, 6, 5, 3]\n",
    "    },\n",
    "    {\n",
    "        'graph': {\n",
    "            'A': ['B', 'C'],\n",
    "            'B': ['D', 'E'],\n",
    "            'C': ['F'],\n",
    "            'D': [],\n",
    "            'E': [],\n",
    "            'F': []\n",
    "        },\n",
    "        'start_vertex': 'A',\n",
    "        'correct_dfs_path': ['A', 'B', 'D', 'E', 'C', 'F']\n",
    "    },\n",
    "    {\n",
    "        'graph': {\n",
    "            'X': ['Y', 'Z'],\n",
    "            'Y': ['A'],\n",
    "            'Z': ['B'],\n",
    "            'A': ['C'],\n",
    "            'B': ['D'],\n",
    "            'C': ['D'],\n",
    "            'D': []\n",
    "        },\n",
    "        'start_vertex': 'X',\n",
    "        'correct_dfs_path': ['X', 'Y', 'A', 'C', 'D', 'B', 'Z']\n",
    "    },\n",
    "    {\n",
    "        'graph': {\n",
    "            1: [2, 3],\n",
    "            2: [4],\n",
    "            3: [5],\n",
    "            4: [6],\n",
    "            5: [],\n",
    "            6: []\n",
    "        },\n",
    "        'start_vertex': 1,\n",
    "        'correct_dfs_path': [1, 2, 4, 6, 5, 3]\n",
    "    },\n",
    "    {\n",
    "        'graph': {\n",
    "            'P': ['Q', 'R'],\n",
    "            'Q': [],\n",
    "            'R': ['S'],\n",
    "            'S': ['T'],\n",
    "            'T': [],\n",
    "        },\n",
    "        'start_vertex': 'P',\n",
    "        'correct_dfs_path': ['P', 'Q', 'R', 'S', 'T']\n",
    "    },\n",
    "    {\n",
    "        'graph': {\n",
    "            'M': ['N'],\n",
    "            'N': ['O', 'P'],\n",
    "            'O': ['Q'],\n",
    "            'P': [],\n",
    "            'Q': []\n",
    "        },\n",
    "        'start_vertex': 'M',\n",
    "        'correct_dfs_path': ['M', 'N', 'O', 'Q', 'P']\n",
    "    },\n",
    "    {\n",
    "        'graph': {\n",
    "            'A': ['B', 'C'],\n",
    "            'B': ['D'],\n",
    "            'C': ['E', 'F'],\n",
    "            'D': [],\n",
    "            'E': [],\n",
    "            'F': []\n",
    "        },\n",
    "        'start_vertex': 'A',\n",
    "        'correct_dfs_path': ['A', 'B', 'D', 'C', 'E', 'F']\n",
    "    },\n",
    "    {\n",
    "        'graph': {\n",
    "            1: [2, 3, 4],\n",
    "            2: [],\n",
    "            3: [5, 6],\n",
    "            4: [],\n",
    "            5: [],\n",
    "            6: []\n",
    "        },\n",
    "        'start_vertex': 1,\n",
    "        'correct_dfs_path': [1, 2, 3, 5, 6, 4]\n",
    "    }]"
   ]
  },
  {
   "cell_type": "code",
   "execution_count": 55,
   "id": "a6cb0231",
   "metadata": {},
   "outputs": [
    {
     "name": "stdout",
     "output_type": "stream",
     "text": [
      "[1, 3, 2, 5, 4, 6] [1, 2, 4, 6, 5, 3]\n",
      "False\n",
      "['A', 'C', 'F', 'B', 'E', 'D'] ['A', 'B', 'D', 'E', 'C', 'F']\n",
      "False\n",
      "['X', 'Z', 'B', 'D', 'Y', 'A', 'C'] ['X', 'Y', 'A', 'C', 'D', 'B', 'Z']\n",
      "False\n",
      "[1, 3, 5, 2, 4, 6] [1, 2, 4, 6, 5, 3]\n",
      "False\n",
      "['P', 'R', 'S', 'T', 'Q'] ['P', 'Q', 'R', 'S', 'T']\n",
      "False\n",
      "['M', 'N', 'P', 'O', 'Q'] ['M', 'N', 'O', 'Q', 'P']\n",
      "False\n",
      "['A', 'C', 'F', 'E', 'B', 'D'] ['A', 'B', 'D', 'C', 'E', 'F']\n",
      "False\n",
      "[1, 4, 3, 6, 5, 2] [1, 2, 3, 5, 6, 4]\n",
      "False\n"
     ]
    }
   ],
   "source": [
    "for i in graphs_and_dfs_paths:\n",
    "    d = DepthFirstSearch(i[\"graph\"])\n",
    "    print(d.DFS(i[\"start_vertex\"]),i[\"correct_dfs_path\"])\n",
    "    print(d.DFS(i[\"start_vertex\"])==i[\"correct_dfs_path\"])"
   ]
  },
  {
   "cell_type": "code",
   "execution_count": null,
   "id": "97a79b69",
   "metadata": {},
   "outputs": [],
   "source": []
  }
 ],
 "metadata": {
  "kernelspec": {
   "display_name": "Python 3 (ipykernel)",
   "language": "python",
   "name": "python3"
  },
  "language_info": {
   "codemirror_mode": {
    "name": "ipython",
    "version": 3
   },
   "file_extension": ".py",
   "mimetype": "text/x-python",
   "name": "python",
   "nbconvert_exporter": "python",
   "pygments_lexer": "ipython3",
   "version": "3.9.7"
  }
 },
 "nbformat": 4,
 "nbformat_minor": 5
}
