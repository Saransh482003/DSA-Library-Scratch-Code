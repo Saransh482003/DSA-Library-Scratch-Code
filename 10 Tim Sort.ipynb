{
 "cells": [
  {
   "cell_type": "code",
   "execution_count": 1,
   "id": "eaeb6d5d",
   "metadata": {},
   "outputs": [],
   "source": [
    "def InsertionSort(array):\n",
    "    l = array\n",
    "    per = 1\n",
    "    while per<len(l):\n",
    "        ele = l[per]\n",
    "        if l[0]>ele:\n",
    "            l.insert(0,l.pop(per))\n",
    "        else:\n",
    "            for i in range(len(l[:per])):\n",
    "                if l[i]<ele and l[i+1]>=ele:\n",
    "                    l.insert(i+1,l.pop(per))\n",
    "                    break\n",
    "                elif l[i]<=ele and l[i+1]>ele:\n",
    "                    l.insert(i+1,l.pop(per))\n",
    "                    break\n",
    "        per+=1\n",
    "    return l"
   ]
  },
  {
   "cell_type": "code",
   "execution_count": 2,
   "id": "4f63e580",
   "metadata": {},
   "outputs": [],
   "source": [
    "def merge(l1,l2):\n",
    "        for ei,i in enumerate(l2):\n",
    "            if l1[0]>=i or l1[-1]<=i:\n",
    "                l1.insert(0,i) if l1[0]>=i else l1.append(i)\n",
    "            else:\n",
    "                rep = None\n",
    "                for ej,j in enumerate(l1):\n",
    "                    if j<i and l1[ej+1]>=i:\n",
    "                        rep = ej+1\n",
    "                        break\n",
    "                l1.insert(rep,i)\n",
    "        return l1"
   ]
  },
  {
   "cell_type": "code",
   "execution_count": 3,
   "id": "bc748588",
   "metadata": {},
   "outputs": [],
   "source": [
    "def TimSort(array):\n",
    "    if len(array)<2:\n",
    "        return array\n",
    "    mid = len(array)//2\n",
    "    return merge(InsertionSort(array[:mid]),InsertionSort(array[mid:])) "
   ]
  },
  {
   "cell_type": "code",
   "execution_count": 4,
   "id": "2c76fe3f",
   "metadata": {},
   "outputs": [],
   "source": [
    "import random"
   ]
  },
  {
   "cell_type": "code",
   "execution_count": 6,
   "id": "c2f585cb",
   "metadata": {},
   "outputs": [
    {
     "data": {
      "text/plain": [
       "10000"
      ]
     },
     "execution_count": 6,
     "metadata": {},
     "output_type": "execute_result"
    }
   ],
   "source": [
    "iu = []\n",
    "for i in range(10000):\n",
    "    rander = random.randint(1,30)\n",
    "    l = [random.randint(10,100) for _ in range(rander)]\n",
    "    ret = [i for i in l]\n",
    "    try:\n",
    "        iu.append(True if InsertionSort(ret)==sorted(ret) else [False,l])\n",
    "    except:\n",
    "        iu.append([False,l])\n",
    "iu.count(True)"
   ]
  },
  {
   "cell_type": "code",
   "execution_count": null,
   "id": "70f70a50",
   "metadata": {},
   "outputs": [],
   "source": []
  }
 ],
 "metadata": {
  "kernelspec": {
   "display_name": "Python 3 (ipykernel)",
   "language": "python",
   "name": "python3"
  },
  "language_info": {
   "codemirror_mode": {
    "name": "ipython",
    "version": 3
   },
   "file_extension": ".py",
   "mimetype": "text/x-python",
   "name": "python",
   "nbconvert_exporter": "python",
   "pygments_lexer": "ipython3",
   "version": "3.9.7"
  }
 },
 "nbformat": 4,
 "nbformat_minor": 5
}
