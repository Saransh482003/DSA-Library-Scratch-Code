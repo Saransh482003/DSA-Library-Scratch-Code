{
 "cells": [
  {
   "cell_type": "code",
   "execution_count": 25,
   "id": "837a78a3",
   "metadata": {},
   "outputs": [],
   "source": [
    "class Stack:\n",
    "    def __init__(self):\n",
    "        self.stack = []\n",
    "    def push(self,element):\n",
    "        self.stack.append(element)\n",
    "    def pop(self):\n",
    "        return self.stack.pop(-1)\n",
    "    def top(self):\n",
    "        return self.stack[-1] if len(self.stack)>0 else None"
   ]
  },
  {
   "cell_type": "code",
   "execution_count": 26,
   "id": "c89fa056",
   "metadata": {},
   "outputs": [],
   "source": [
    "def prefixToInfix(prefix):\n",
    "    if \" \" in prefix:\n",
    "        prefix = prefix.split(\" \")\n",
    "    prefix = prefix[::-1]\n",
    "    at = Stack()\n",
    "    for i in prefix:\n",
    "        if i in \"^$*/+-\":\n",
    "            second = at.pop()\n",
    "            first = at.pop()\n",
    "            at.push(f\"({second}{i}{first})\")\n",
    "        else:\n",
    "            at.push(i)\n",
    "    \n",
    "    return at.top()"
   ]
  },
  {
   "cell_type": "code",
   "execution_count": 27,
   "id": "ae3d4fe2",
   "metadata": {},
   "outputs": [
    {
     "data": {
      "text/plain": [
       "'((A-(B/C))*((A/K)-L))'"
      ]
     },
     "execution_count": 27,
     "metadata": {},
     "output_type": "execute_result"
    }
   ],
   "source": [
    "prefixToInfix(\"*-A/BC-/AKL\")"
   ]
  },
  {
   "cell_type": "code",
   "execution_count": 28,
   "id": "f72fa6d9",
   "metadata": {},
   "outputs": [],
   "source": [
    "def prefixToPostfix(prefix):\n",
    "    prefix = prefix[::-1]\n",
    "    if \" \" in prefix:\n",
    "        prefix = prefix.split(\" \")\n",
    "    at = Stack()\n",
    "    for i in prefix:\n",
    "        if i in \"^$*/+-\":\n",
    "            second = at.pop()\n",
    "            first = at.pop()\n",
    "            at.push(f\"{second}{first}{i}\")\n",
    "        else:\n",
    "            at.push(i)\n",
    "    return at.top()"
   ]
  },
  {
   "cell_type": "code",
   "execution_count": 29,
   "id": "68164cf6",
   "metadata": {},
   "outputs": [
    {
     "data": {
      "text/plain": [
       "'ABC/-AK/L-*'"
      ]
     },
     "execution_count": 29,
     "metadata": {},
     "output_type": "execute_result"
    }
   ],
   "source": [
    "prefixToPostfix('*-A/BC-/AKL')"
   ]
  },
  {
   "cell_type": "code",
   "execution_count": null,
   "id": "658062f7",
   "metadata": {},
   "outputs": [],
   "source": []
  }
 ],
 "metadata": {
  "kernelspec": {
   "display_name": "Python 3 (ipykernel)",
   "language": "python",
   "name": "python3"
  },
  "language_info": {
   "codemirror_mode": {
    "name": "ipython",
    "version": 3
   },
   "file_extension": ".py",
   "mimetype": "text/x-python",
   "name": "python",
   "nbconvert_exporter": "python",
   "pygments_lexer": "ipython3",
   "version": "3.9.7"
  }
 },
 "nbformat": 4,
 "nbformat_minor": 5
}
